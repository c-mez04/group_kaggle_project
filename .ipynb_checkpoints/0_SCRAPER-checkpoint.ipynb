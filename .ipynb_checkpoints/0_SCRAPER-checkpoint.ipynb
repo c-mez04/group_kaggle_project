{
 "cells": [
  {
   "cell_type": "markdown",
   "metadata": {},
   "source": [
    "# Scraper to get the data for Chicago Zip Codes from the following site.\n",
    "\n",
    "Zip Code List:\n",
    "http://zipatlas.com/us/il/chicago/zip-code-comparison/population-density.htm\n",
    "\n",
    "Pages with Zip Code Data:\n",
    "http://zipatlas.com/us/il/chicago/zip-60649.htm"
   ]
  },
  {
   "cell_type": "code",
   "execution_count": 47,
   "metadata": {
    "collapsed": true
   },
   "outputs": [],
   "source": [
    "import pandas as pd\n",
    "import numpy as np\n",
    "import re\n",
    "\n",
    "from bs4 import BeautifulSoup\n",
    "from time import sleep\n",
    "import random\n",
    "import requests\n",
    "import urllib\n",
    "from html_table_parser import parser_functions as parse"
   ]
  },
  {
   "cell_type": "code",
   "execution_count": 10,
   "metadata": {
    "collapsed": true
   },
   "outputs": [],
   "source": [
    "#Scraper to get the table from the website with all the zip codes.\n",
    "url = \"http://zipatlas.com/us/il/chicago/zip-code-comparison/population-density.htm\"\n",
    "html = urllib.urlopen(url).read()\n",
    "soup = BeautifulSoup(html, 'html.parser', from_encoding='utf-8')\n",
    "table = soup.find('table', {'rules':'all'})\n",
    "twodim_table = parse.make2d(table)\n",
    "zip_df = pd.DataFrame(twodim_table)"
   ]
  },
  {
   "cell_type": "code",
   "execution_count": 15,
   "metadata": {
    "collapsed": false
   },
   "outputs": [],
   "source": [
    "#Adjusting the column headers on the dataframe.\n",
    "zip_df.columns = zip_df.loc[0]\n",
    "zip_df.drop(0, inplace=True)"
   ]
  },
  {
   "cell_type": "code",
   "execution_count": 111,
   "metadata": {
    "collapsed": false,
    "scrolled": true
   },
   "outputs": [
    {
     "name": "stdout",
     "output_type": "stream",
     "text": [
      "(55, 7)\n"
     ]
    },
    {
     "data": {
      "text/html": [
       "<div>\n",
       "<table border=\"1\" class=\"dataframe\">\n",
       "  <thead>\n",
       "    <tr style=\"text-align: right;\">\n",
       "      <th></th>\n",
       "      <th>Zip Code</th>\n",
       "      <th>Location</th>\n",
       "      <th>City</th>\n",
       "      <th>Population</th>\n",
       "      <th>People / Sq. Mile</th>\n",
       "      <th>National Rank</th>\n",
       "    </tr>\n",
       "  </thead>\n",
       "  <tbody>\n",
       "    <tr>\n",
       "      <th>0</th>\n",
       "      <td>60626</td>\n",
       "      <td>42.009340, -87.669902</td>\n",
       "      <td>Chicago, Illinois</td>\n",
       "      <td>59,251</td>\n",
       "      <td>34,520.21</td>\n",
       "      <td>#98</td>\n",
       "    </tr>\n",
       "    <tr>\n",
       "      <th>1</th>\n",
       "      <td>60660</td>\n",
       "      <td>41.990561, -87.664706</td>\n",
       "      <td>Chicago, Illinois</td>\n",
       "      <td>47,726</td>\n",
       "      <td>34,193.05</td>\n",
       "      <td>#99</td>\n",
       "    </tr>\n",
       "    <tr>\n",
       "      <th>2</th>\n",
       "      <td>60640</td>\n",
       "      <td>41.972347, -87.663982</td>\n",
       "      <td>Chicago, Illinois</td>\n",
       "      <td>74,030</td>\n",
       "      <td>32,103.29</td>\n",
       "      <td>#109</td>\n",
       "    </tr>\n",
       "    <tr>\n",
       "      <th>3</th>\n",
       "      <td>60657</td>\n",
       "      <td>41.938964, -87.656811</td>\n",
       "      <td>Chicago, Illinois</td>\n",
       "      <td>66,789</td>\n",
       "      <td>31,204.02</td>\n",
       "      <td>#112</td>\n",
       "    </tr>\n",
       "    <tr>\n",
       "      <th>4</th>\n",
       "      <td>60610</td>\n",
       "      <td>41.900034, -87.636967</td>\n",
       "      <td>Chicago, Illinois</td>\n",
       "      <td>47,513</td>\n",
       "      <td>30,110.68</td>\n",
       "      <td>#119</td>\n",
       "    </tr>\n",
       "  </tbody>\n",
       "</table>\n",
       "</div>"
      ],
      "text/plain": [
       "0 Zip Code               Location               City Population  \\\n",
       "0    60626  42.009340, -87.669902  Chicago, Illinois     59,251   \n",
       "1    60660  41.990561, -87.664706  Chicago, Illinois     47,726   \n",
       "2    60640  41.972347, -87.663982  Chicago, Illinois     74,030   \n",
       "3    60657  41.938964, -87.656811  Chicago, Illinois     66,789   \n",
       "4    60610  41.900034, -87.636967  Chicago, Illinois     47,513   \n",
       "\n",
       "0 People / Sq. Mile National Rank  \n",
       "0         34,520.21           #98  \n",
       "1         34,193.05           #99  \n",
       "2         32,103.29          #109  \n",
       "3         31,204.02          #112  \n",
       "4         30,110.68          #119  "
      ]
     },
     "execution_count": 111,
     "metadata": {},
     "output_type": "execute_result"
    }
   ],
   "source": [
    "print zip_df.shape\n",
    "zip_df = zip_df.reset_index()\n",
    "zip_df.drop(['index', '#'], axis=1, inplace=True)\n",
    "zip_df.head()"
   ]
  },
  {
   "cell_type": "code",
   "execution_count": 52,
   "metadata": {
    "collapsed": true
   },
   "outputs": [],
   "source": [
    "#Function to strip html which will be used in the details scraper.\n",
    "def striphtml(data):\n",
    "    p = re.compile(r'<.*?>')\n",
    "    return p.sub(' ', data)"
   ]
  },
  {
   "cell_type": "code",
   "execution_count": 93,
   "metadata": {
    "collapsed": false,
    "scrolled": true
   },
   "outputs": [
    {
     "name": "stdout",
     "output_type": "stream",
     "text": [
      "(1, 7)\n",
      "(2, 7)\n",
      "(3, 7)\n",
      "(4, 7)\n",
      "(5, 7)\n",
      "(6, 7)\n",
      "(7, 7)\n",
      "(8, 7)\n",
      "(9, 7)\n",
      "(10, 7)\n",
      "(11, 7)\n",
      "(12, 7)\n",
      "(13, 7)\n",
      "(14, 7)\n",
      "(15, 7)\n",
      "(16, 7)\n",
      "(17, 7)\n",
      "(18, 7)\n",
      "(19, 7)\n",
      "(20, 7)\n",
      "(21, 7)\n",
      "(22, 7)\n",
      "(23, 7)\n",
      "(24, 7)\n",
      "(25, 7)\n",
      "(26, 7)\n",
      "(27, 7)\n",
      "(28, 7)\n",
      "(29, 7)\n",
      "(30, 7)\n",
      "(31, 7)\n",
      "(32, 7)\n",
      "(33, 7)\n",
      "(34, 7)\n",
      "(35, 7)\n",
      "(36, 7)\n",
      "(37, 7)\n",
      "(38, 7)\n",
      "(39, 7)\n",
      "(40, 7)\n",
      "(41, 7)\n",
      "(42, 7)\n",
      "(43, 7)\n",
      "(44, 7)\n",
      "(45, 7)\n",
      "(46, 7)\n",
      "(47, 7)\n",
      "(48, 7)\n",
      "(49, 7)\n",
      "(50, 7)\n",
      "(51, 7)\n",
      "(52, 7)\n",
      "(53, 7)\n",
      "(54, 7)\n",
      "(55, 7)\n"
     ]
    }
   ],
   "source": [
    "#Scraper to get the detailed data from each zip code page.\n",
    "zip_detail = pd.DataFrame(columns=['Latitude', 'Longitude', 'Population', 'Areasqmile', 'Landsqmile', 'Watersqmile', 'Poppersqmile'])\n",
    "for i in zip_df['Zip Code']:\n",
    "    x = str(i)\n",
    "    url = \"http://zipatlas.com/us/il/chicago/zip-\"+x+\".htm\"    \n",
    "    html = urllib.urlopen(url).read()\n",
    "    soup = BeautifulSoup(html, 'html.parser', from_encoding='utf-8')\n",
    "    table = soup.find('div', {'style':'padding:10px 10px 10px 25px;'})\n",
    "    table = striphtml(str(table))\n",
    "    table = table.split()\n",
    "    #Scraped data stored in variables.\n",
    "    Latitude = table[9]\n",
    "    Longitude = table[11]\n",
    "    Population = table[13]\n",
    "    Areasqmile = table[15]\n",
    "    Landsqmile = table[19]\n",
    "    Watersqmile = table[23]\n",
    "    Poppersqmile = table[28]\n",
    "    zip_detail.loc[len(zip_detail)]=[Latitude, Longitude, Population, Areasqmile, Landsqmile, Watersqmile, Poppersqmile]\n",
    "    print zip_detail.shape"
   ]
  },
  {
   "cell_type": "code",
   "execution_count": 96,
   "metadata": {
    "collapsed": false
   },
   "outputs": [
    {
     "name": "stdout",
     "output_type": "stream",
     "text": [
      "(55, 7)\n"
     ]
    },
    {
     "data": {
      "text/html": [
       "<div>\n",
       "<table border=\"1\" class=\"dataframe\">\n",
       "  <thead>\n",
       "    <tr style=\"text-align: right;\">\n",
       "      <th></th>\n",
       "      <th>Latitude</th>\n",
       "      <th>Longitude</th>\n",
       "      <th>Population</th>\n",
       "      <th>Areasqmile</th>\n",
       "      <th>Landsqmile</th>\n",
       "      <th>Watersqmile</th>\n",
       "      <th>Poppersqmile</th>\n",
       "    </tr>\n",
       "  </thead>\n",
       "  <tbody>\n",
       "    <tr>\n",
       "      <th>0</th>\n",
       "      <td>42.0093402</td>\n",
       "      <td>-87.6699015</td>\n",
       "      <td>59,251</td>\n",
       "      <td>1.72</td>\n",
       "      <td>1.72</td>\n",
       "      <td>0.00</td>\n",
       "      <td>34,520.22</td>\n",
       "    </tr>\n",
       "    <tr>\n",
       "      <th>1</th>\n",
       "      <td>41.9905605</td>\n",
       "      <td>-87.6647059</td>\n",
       "      <td>47,726</td>\n",
       "      <td>1.40</td>\n",
       "      <td>1.40</td>\n",
       "      <td>0.00</td>\n",
       "      <td>34,193.05</td>\n",
       "    </tr>\n",
       "    <tr>\n",
       "      <th>2</th>\n",
       "      <td>41.9723469</td>\n",
       "      <td>-87.6639822</td>\n",
       "      <td>74,030</td>\n",
       "      <td>2.31</td>\n",
       "      <td>2.31</td>\n",
       "      <td>0.00</td>\n",
       "      <td>32,103.29</td>\n",
       "    </tr>\n",
       "  </tbody>\n",
       "</table>\n",
       "</div>"
      ],
      "text/plain": [
       "     Latitude    Longitude Population Areasqmile Landsqmile Watersqmile  \\\n",
       "0  42.0093402  -87.6699015     59,251       1.72       1.72        0.00   \n",
       "1  41.9905605  -87.6647059     47,726       1.40       1.40        0.00   \n",
       "2  41.9723469  -87.6639822     74,030       2.31       2.31        0.00   \n",
       "\n",
       "  Poppersqmile  \n",
       "0    34,520.22  \n",
       "1    34,193.05  \n",
       "2    32,103.29  "
      ]
     },
     "execution_count": 96,
     "metadata": {},
     "output_type": "execute_result"
    }
   ],
   "source": [
    "print zip_detail.shape\n",
    "zip_detail.head(3)"
   ]
  },
  {
   "cell_type": "code",
   "execution_count": 112,
   "metadata": {
    "collapsed": false
   },
   "outputs": [],
   "source": [
    "#Concatenate the two dataframes together.\n",
    "zip_scraper = pd.concat([zip_df, zip_detail], axis=1)"
   ]
  },
  {
   "cell_type": "code",
   "execution_count": 113,
   "metadata": {
    "collapsed": false,
    "scrolled": false
   },
   "outputs": [
    {
     "name": "stdout",
     "output_type": "stream",
     "text": [
      "(55, 13)\n"
     ]
    },
    {
     "data": {
      "text/html": [
       "<div>\n",
       "<table border=\"1\" class=\"dataframe\">\n",
       "  <thead>\n",
       "    <tr style=\"text-align: right;\">\n",
       "      <th></th>\n",
       "      <th>Zip Code</th>\n",
       "      <th>Location</th>\n",
       "      <th>City</th>\n",
       "      <th>Population</th>\n",
       "      <th>People / Sq. Mile</th>\n",
       "      <th>National Rank</th>\n",
       "      <th>Latitude</th>\n",
       "      <th>Longitude</th>\n",
       "      <th>Population</th>\n",
       "      <th>Areasqmile</th>\n",
       "      <th>Landsqmile</th>\n",
       "      <th>Watersqmile</th>\n",
       "      <th>Poppersqmile</th>\n",
       "    </tr>\n",
       "  </thead>\n",
       "  <tbody>\n",
       "    <tr>\n",
       "      <th>0</th>\n",
       "      <td>60626</td>\n",
       "      <td>42.009340, -87.669902</td>\n",
       "      <td>Chicago, Illinois</td>\n",
       "      <td>59,251</td>\n",
       "      <td>34,520.21</td>\n",
       "      <td>#98</td>\n",
       "      <td>42.0093402</td>\n",
       "      <td>-87.6699015</td>\n",
       "      <td>59,251</td>\n",
       "      <td>1.72</td>\n",
       "      <td>1.72</td>\n",
       "      <td>0.00</td>\n",
       "      <td>34,520.22</td>\n",
       "    </tr>\n",
       "    <tr>\n",
       "      <th>1</th>\n",
       "      <td>60660</td>\n",
       "      <td>41.990561, -87.664706</td>\n",
       "      <td>Chicago, Illinois</td>\n",
       "      <td>47,726</td>\n",
       "      <td>34,193.05</td>\n",
       "      <td>#99</td>\n",
       "      <td>41.9905605</td>\n",
       "      <td>-87.6647059</td>\n",
       "      <td>47,726</td>\n",
       "      <td>1.40</td>\n",
       "      <td>1.40</td>\n",
       "      <td>0.00</td>\n",
       "      <td>34,193.05</td>\n",
       "    </tr>\n",
       "    <tr>\n",
       "      <th>2</th>\n",
       "      <td>60640</td>\n",
       "      <td>41.972347, -87.663982</td>\n",
       "      <td>Chicago, Illinois</td>\n",
       "      <td>74,030</td>\n",
       "      <td>32,103.29</td>\n",
       "      <td>#109</td>\n",
       "      <td>41.9723469</td>\n",
       "      <td>-87.6639822</td>\n",
       "      <td>74,030</td>\n",
       "      <td>2.31</td>\n",
       "      <td>2.31</td>\n",
       "      <td>0.00</td>\n",
       "      <td>32,103.29</td>\n",
       "    </tr>\n",
       "    <tr>\n",
       "      <th>3</th>\n",
       "      <td>60657</td>\n",
       "      <td>41.938964, -87.656811</td>\n",
       "      <td>Chicago, Illinois</td>\n",
       "      <td>66,789</td>\n",
       "      <td>31,204.02</td>\n",
       "      <td>#112</td>\n",
       "      <td>41.9389636</td>\n",
       "      <td>-87.6568112</td>\n",
       "      <td>66,789</td>\n",
       "      <td>2.14</td>\n",
       "      <td>2.10</td>\n",
       "      <td>0.04</td>\n",
       "      <td>31,834.77</td>\n",
       "    </tr>\n",
       "    <tr>\n",
       "      <th>4</th>\n",
       "      <td>60610</td>\n",
       "      <td>41.900034, -87.636967</td>\n",
       "      <td>Chicago, Illinois</td>\n",
       "      <td>47,513</td>\n",
       "      <td>30,110.68</td>\n",
       "      <td>#119</td>\n",
       "      <td>41.9000342</td>\n",
       "      <td>-87.6369674</td>\n",
       "      <td>47,513</td>\n",
       "      <td>1.58</td>\n",
       "      <td>1.58</td>\n",
       "      <td>0.00</td>\n",
       "      <td>30,110.68</td>\n",
       "    </tr>\n",
       "  </tbody>\n",
       "</table>\n",
       "</div>"
      ],
      "text/plain": [
       "0 Zip Code               Location               City Population  \\\n",
       "0    60626  42.009340, -87.669902  Chicago, Illinois     59,251   \n",
       "1    60660  41.990561, -87.664706  Chicago, Illinois     47,726   \n",
       "2    60640  41.972347, -87.663982  Chicago, Illinois     74,030   \n",
       "3    60657  41.938964, -87.656811  Chicago, Illinois     66,789   \n",
       "4    60610  41.900034, -87.636967  Chicago, Illinois     47,513   \n",
       "\n",
       "0 People / Sq. Mile National Rank    Latitude    Longitude Population  \\\n",
       "0         34,520.21           #98  42.0093402  -87.6699015     59,251   \n",
       "1         34,193.05           #99  41.9905605  -87.6647059     47,726   \n",
       "2         32,103.29          #109  41.9723469  -87.6639822     74,030   \n",
       "3         31,204.02          #112  41.9389636  -87.6568112     66,789   \n",
       "4         30,110.68          #119  41.9000342  -87.6369674     47,513   \n",
       "\n",
       "0 Areasqmile Landsqmile Watersqmile Poppersqmile  \n",
       "0       1.72       1.72        0.00    34,520.22  \n",
       "1       1.40       1.40        0.00    34,193.05  \n",
       "2       2.31       2.31        0.00    32,103.29  \n",
       "3       2.14       2.10        0.04    31,834.77  \n",
       "4       1.58       1.58        0.00    30,110.68  "
      ]
     },
     "execution_count": 113,
     "metadata": {},
     "output_type": "execute_result"
    }
   ],
   "source": [
    "print zip_scraper.shape\n",
    "zip_scraper.head()"
   ]
  },
  {
   "cell_type": "code",
   "execution_count": 114,
   "metadata": {
    "collapsed": true
   },
   "outputs": [],
   "source": [
    "#Backup the scraped stuff in a csv.\n",
    "zip_scraper.to_csv('assets/SCRAPED_ZIP_CODE_DETAILS.csv')"
   ]
  }
 ],
 "metadata": {
  "anaconda-cloud": {},
  "kernelspec": {
   "display_name": "Python 2",
   "language": "python",
   "name": "python2"
  },
  "language_info": {
   "codemirror_mode": {
    "name": "ipython",
    "version": 2
   },
   "file_extension": ".py",
   "mimetype": "text/x-python",
   "name": "python",
   "nbconvert_exporter": "python",
   "pygments_lexer": "ipython2",
   "version": "2.7.12"
  }
 },
 "nbformat": 4,
 "nbformat_minor": 1
}
