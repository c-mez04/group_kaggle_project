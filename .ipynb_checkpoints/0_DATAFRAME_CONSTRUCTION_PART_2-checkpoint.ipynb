{
 "cells": [
  {
   "cell_type": "markdown",
   "metadata": {},
   "source": [
    "# Dataframe Construction Part 2:\n",
    "Assigning every trap to zip code data using Haversine."
   ]
  },
  {
   "cell_type": "code",
   "execution_count": 1,
   "metadata": {
    "collapsed": true
   },
   "outputs": [],
   "source": [
    "import pandas as pd\n",
    "from haversine import haversine\n",
    "import numpy as np"
   ]
  },
  {
   "cell_type": "code",
   "execution_count": 2,
   "metadata": {
    "collapsed": false
   },
   "outputs": [],
   "source": [
    "#Import the data.\n",
    "data1 = pd.read_csv('assets/train_1.csv')\n",
    "data2 = pd.read_csv('assets/test_1.csv')\n",
    "data3 = pd.read_csv('assets/SCRAPED_ZIP_CODE_DETAILS.csv')\n",
    "\n",
    "#Put it into dataframes.\n",
    "df_train = pd.DataFrame(data1)\n",
    "df_test = pd.DataFrame(data2)\n",
    "df_zip = pd.DataFrame(data3)"
   ]
  },
  {
   "cell_type": "markdown",
   "metadata": {},
   "source": [
    "## Calculate trap distance to each of the 55 zip codes."
   ]
  },
  {
   "cell_type": "code",
   "execution_count": 3,
   "metadata": {
    "collapsed": false
   },
   "outputs": [],
   "source": [
    "#Nathan doing stupid stuff that shouldn't take so many lines of code.\n",
    "df1 = df_zip.copy().groupby(['Zip Code']).mean().reset_index().transpose().reset_index()\n",
    "df1.columns = df1.loc[0]\n",
    "df1.drop([0,1,4,5,6], inplace=True)\n",
    "df1 = df1.reset_index()\n",
    "df1.drop(['index', 'Zip Code'], axis=1, inplace=True)"
   ]
  },
  {
   "cell_type": "code",
   "execution_count": 4,
   "metadata": {
    "collapsed": false
   },
   "outputs": [],
   "source": [
    "#Grouping the trap data so that this is easier to process.\n",
    "df_transition = df_train.copy()\n",
    "df_transition = df_transition.groupby(['Trap']).mean().reset_index()\n",
    "df_transition.drop(['Unnamed: 0', 'Block', 'AddressAccuracy', 'NumMosquitos', 'WnvPresent', 'station'], axis=1, inplace=True)"
   ]
  },
  {
   "cell_type": "code",
   "execution_count": 5,
   "metadata": {
    "collapsed": true
   },
   "outputs": [],
   "source": [
    "#Function to find the distance from every trap to each zip code.\n",
    "df2 = pd.DataFrame(columns=[df1.columns])\n",
    "for i in df1.columns:\n",
    "    holder = []\n",
    "    for x, y in enumerate(df_train['Latitude']):\n",
    "        zip_code = (df1[i].loc[0], df1[i].loc[1])\n",
    "        trap = (y, df_train['Longitude'].loc[x])\n",
    "        holder.append(haversine(zip_code, trap, miles=True))\n",
    "    df2[i] = holder"
   ]
  },
  {
   "cell_type": "code",
   "execution_count": null,
   "metadata": {
    "collapsed": true
   },
   "outputs": [],
   "source": [
    "df3 = df2.copy()\n",
    "df4 = pd.DataFrame(columns=[df3.columns])\n",
    "#Function to order the zip code distance to each trap.\n",
    "for i in df3.columns:\n",
    "    holder2 = []\n",
    "    for x in df3.index:\n",
    "        y = df3.loc[x].idxmin()\n",
    "        holder2.append(y)\n",
    "        df3[y].loc[x] = np.nan\n",
    "    df4[i] = holder2"
   ]
  },
  {
   "cell_type": "code",
   "execution_count": 11,
   "metadata": {
    "collapsed": false
   },
   "outputs": [
    {
     "name": "stdout",
     "output_type": "stream",
     "text": [
      "(10506, 3)\n"
     ]
    },
    {
     "data": {
      "text/html": [
       "<div>\n",
       "<table border=\"1\" class=\"dataframe\">\n",
       "  <thead>\n",
       "    <tr style=\"text-align: right;\">\n",
       "      <th></th>\n",
       "      <th>60601.0</th>\n",
       "      <th>60602.0</th>\n",
       "      <th>60603.0</th>\n",
       "    </tr>\n",
       "  </thead>\n",
       "  <tbody>\n",
       "    <tr>\n",
       "      <th>0</th>\n",
       "      <td>60634.0</td>\n",
       "      <td>60656.0</td>\n",
       "      <td>60630.0</td>\n",
       "    </tr>\n",
       "    <tr>\n",
       "      <th>1</th>\n",
       "      <td>60634.0</td>\n",
       "      <td>60656.0</td>\n",
       "      <td>60630.0</td>\n",
       "    </tr>\n",
       "    <tr>\n",
       "      <th>2</th>\n",
       "      <td>60646.0</td>\n",
       "      <td>60630.0</td>\n",
       "      <td>60631.0</td>\n",
       "    </tr>\n",
       "    <tr>\n",
       "      <th>3</th>\n",
       "      <td>60656.0</td>\n",
       "      <td>60631.0</td>\n",
       "      <td>60634.0</td>\n",
       "    </tr>\n",
       "    <tr>\n",
       "      <th>4</th>\n",
       "      <td>60656.0</td>\n",
       "      <td>60631.0</td>\n",
       "      <td>60634.0</td>\n",
       "    </tr>\n",
       "  </tbody>\n",
       "</table>\n",
       "</div>"
      ],
      "text/plain": [
       "0  60601.0  60602.0  60603.0\n",
       "0  60634.0  60656.0  60630.0\n",
       "1  60634.0  60656.0  60630.0\n",
       "2  60646.0  60630.0  60631.0\n",
       "3  60656.0  60631.0  60634.0\n",
       "4  60656.0  60631.0  60634.0"
      ]
     },
     "execution_count": 11,
     "metadata": {},
     "output_type": "execute_result"
    }
   ],
   "source": [
    "df5 = df4[df4.columns[:3]].copy()\n",
    "print df5.shape\n",
    "df5.head()"
   ]
  },
  {
   "cell_type": "code",
   "execution_count": 19,
   "metadata": {
    "collapsed": false
   },
   "outputs": [],
   "source": [
    "#check = (list(df4[60601.0]) + list(df4[60602.0]) + list(df4[60603.0]))\n",
    "check = list(df4[60601.0])"
   ]
  },
  {
   "cell_type": "code",
   "execution_count": 20,
   "metadata": {
    "collapsed": false
   },
   "outputs": [
    {
     "data": {
      "text/plain": [
       "46"
      ]
     },
     "execution_count": 20,
     "metadata": {},
     "output_type": "execute_result"
    }
   ],
   "source": [
    "len(set(check))"
   ]
  },
  {
   "cell_type": "code",
   "execution_count": 16,
   "metadata": {
    "collapsed": true
   },
   "outputs": [],
   "source": [
    "df6 = df2.copy()\n",
    "df7 = pd.DataFrame(columns=[df6.columns])"
   ]
  },
  {
   "cell_type": "markdown",
   "metadata": {
    "collapsed": false
   },
   "source": [
    "#Function to order the zip code distance to each trap. Same thing as earlier but to get the distances.\n",
    "for i in df6.columns:\n",
    "    holder3 = []\n",
    "    for x in df6.index:\n",
    "        y = df6.loc[x].min()\n",
    "        z = df6.loc[x].idxmin()\n",
    "        holder3.append(y)\n",
    "        df6[z].loc[x] = np.nan\n",
    "    df7[i] = holder2"
   ]
  },
  {
   "cell_type": "code",
   "execution_count": 29,
   "metadata": {
    "collapsed": false
   },
   "outputs": [],
   "source": [
    "df_train['Zip Code'] = df5[60601.0]"
   ]
  },
  {
   "cell_type": "code",
   "execution_count": 36,
   "metadata": {
    "collapsed": false
   },
   "outputs": [
    {
     "name": "stdout",
     "output_type": "stream",
     "text": [
      "(10506, 16)\n"
     ]
    },
    {
     "data": {
      "text/html": [
       "<div>\n",
       "<table border=\"1\" class=\"dataframe\">\n",
       "  <thead>\n",
       "    <tr style=\"text-align: right;\">\n",
       "      <th></th>\n",
       "      <th>Unnamed: 0</th>\n",
       "      <th>Date</th>\n",
       "      <th>Address</th>\n",
       "      <th>Species</th>\n",
       "      <th>Block</th>\n",
       "      <th>Street</th>\n",
       "      <th>Trap</th>\n",
       "      <th>AddressNumberAndStreet</th>\n",
       "      <th>Latitude</th>\n",
       "      <th>Longitude</th>\n",
       "      <th>AddressAccuracy</th>\n",
       "      <th>NumMosquitos</th>\n",
       "      <th>WnvPresent</th>\n",
       "      <th>station</th>\n",
       "      <th>zip</th>\n",
       "      <th>Zip Code</th>\n",
       "    </tr>\n",
       "  </thead>\n",
       "  <tbody>\n",
       "    <tr>\n",
       "      <th>0</th>\n",
       "      <td>0</td>\n",
       "      <td>2007-05-29</td>\n",
       "      <td>4100 North Oak Park Avenue, Chicago, IL 60634,...</td>\n",
       "      <td>CULEX PIPIENS/RESTUANS</td>\n",
       "      <td>41</td>\n",
       "      <td>N OAK PARK AVE</td>\n",
       "      <td>T002</td>\n",
       "      <td>4100  N OAK PARK AVE, Chicago, IL</td>\n",
       "      <td>41.95469</td>\n",
       "      <td>-87.800991</td>\n",
       "      <td>9</td>\n",
       "      <td>1</td>\n",
       "      <td>0</td>\n",
       "      <td>0</td>\n",
       "      <td>60634.0</td>\n",
       "      <td>60634.0</td>\n",
       "    </tr>\n",
       "    <tr>\n",
       "      <th>1</th>\n",
       "      <td>1</td>\n",
       "      <td>2007-05-29</td>\n",
       "      <td>4100 North Oak Park Avenue, Chicago, IL 60634,...</td>\n",
       "      <td>CULEX RESTUANS</td>\n",
       "      <td>41</td>\n",
       "      <td>N OAK PARK AVE</td>\n",
       "      <td>T002</td>\n",
       "      <td>4100  N OAK PARK AVE, Chicago, IL</td>\n",
       "      <td>41.95469</td>\n",
       "      <td>-87.800991</td>\n",
       "      <td>9</td>\n",
       "      <td>1</td>\n",
       "      <td>0</td>\n",
       "      <td>0</td>\n",
       "      <td>60634.0</td>\n",
       "      <td>60634.0</td>\n",
       "    </tr>\n",
       "  </tbody>\n",
       "</table>\n",
       "</div>"
      ],
      "text/plain": [
       "   Unnamed: 0        Date                                            Address  \\\n",
       "0           0  2007-05-29  4100 North Oak Park Avenue, Chicago, IL 60634,...   \n",
       "1           1  2007-05-29  4100 North Oak Park Avenue, Chicago, IL 60634,...   \n",
       "\n",
       "                  Species  Block           Street  Trap  \\\n",
       "0  CULEX PIPIENS/RESTUANS     41   N OAK PARK AVE  T002   \n",
       "1          CULEX RESTUANS     41   N OAK PARK AVE  T002   \n",
       "\n",
       "              AddressNumberAndStreet  Latitude  Longitude  AddressAccuracy  \\\n",
       "0  4100  N OAK PARK AVE, Chicago, IL  41.95469 -87.800991                9   \n",
       "1  4100  N OAK PARK AVE, Chicago, IL  41.95469 -87.800991                9   \n",
       "\n",
       "   NumMosquitos  WnvPresent  station      zip  Zip Code  \n",
       "0             1           0        0  60634.0   60634.0  \n",
       "1             1           0        0  60634.0   60634.0  "
      ]
     },
     "execution_count": 36,
     "metadata": {},
     "output_type": "execute_result"
    }
   ],
   "source": [
    "print df_train.shape\n",
    "df_train.head(2)"
   ]
  },
  {
   "cell_type": "code",
   "execution_count": 28,
   "metadata": {
    "collapsed": false
   },
   "outputs": [
    {
     "data": {
      "text/plain": [
       "Index([u'Unnamed: 0', u'Zip Code', u'Location', u'City', u'Population',\n",
       "       u'People / Sq. Mile', u'National Rank', u'Latitude', u'Longitude',\n",
       "       u'Population.1', u'Areasqmile', u'Landsqmile', u'Watersqmile',\n",
       "       u'Poppersqmile'],\n",
       "      dtype='object')"
      ]
     },
     "execution_count": 28,
     "metadata": {},
     "output_type": "execute_result"
    }
   ],
   "source": [
    "df_zip.columns"
   ]
  },
  {
   "cell_type": "code",
   "execution_count": 38,
   "metadata": {
    "collapsed": false
   },
   "outputs": [],
   "source": [
    "#Join zip code dataframe to df_train on the zip column\n",
    "df_train2 = pd.merge(df_train, df_zip[['Zip Code', 'Areasqmile', 'Landsqmile', 'Watersqmile', 'Poppersqmile']], how='left', on='Zip Code')"
   ]
  },
  {
   "cell_type": "code",
   "execution_count": 44,
   "metadata": {
    "collapsed": false,
    "scrolled": false
   },
   "outputs": [
    {
     "name": "stdout",
     "output_type": "stream",
     "text": [
      "(10506, 19)\n"
     ]
    },
    {
     "data": {
      "text/html": [
       "<div>\n",
       "<table border=\"1\" class=\"dataframe\">\n",
       "  <thead>\n",
       "    <tr style=\"text-align: right;\">\n",
       "      <th></th>\n",
       "      <th>Date</th>\n",
       "      <th>Address</th>\n",
       "      <th>Species</th>\n",
       "      <th>Block</th>\n",
       "      <th>Street</th>\n",
       "      <th>Trap</th>\n",
       "      <th>AddressNumberAndStreet</th>\n",
       "      <th>Latitude</th>\n",
       "      <th>Longitude</th>\n",
       "      <th>AddressAccuracy</th>\n",
       "      <th>NumMosquitos</th>\n",
       "      <th>WnvPresent</th>\n",
       "      <th>station</th>\n",
       "      <th>zip</th>\n",
       "      <th>Zip Code</th>\n",
       "      <th>Areasqmile</th>\n",
       "      <th>Landsqmile</th>\n",
       "      <th>Watersqmile</th>\n",
       "      <th>Poppersqmile</th>\n",
       "    </tr>\n",
       "  </thead>\n",
       "  <tbody>\n",
       "    <tr>\n",
       "      <th>0</th>\n",
       "      <td>2007-05-29</td>\n",
       "      <td>4100 North Oak Park Avenue, Chicago, IL 60634,...</td>\n",
       "      <td>CULEX PIPIENS/RESTUANS</td>\n",
       "      <td>41</td>\n",
       "      <td>N OAK PARK AVE</td>\n",
       "      <td>T002</td>\n",
       "      <td>4100  N OAK PARK AVE, Chicago, IL</td>\n",
       "      <td>41.95469</td>\n",
       "      <td>-87.800991</td>\n",
       "      <td>9</td>\n",
       "      <td>1</td>\n",
       "      <td>0</td>\n",
       "      <td>0</td>\n",
       "      <td>60634.0</td>\n",
       "      <td>60634.0</td>\n",
       "      <td>6.99</td>\n",
       "      <td>6.98</td>\n",
       "      <td>0.01</td>\n",
       "      <td>10,626.10</td>\n",
       "    </tr>\n",
       "    <tr>\n",
       "      <th>1</th>\n",
       "      <td>2007-05-29</td>\n",
       "      <td>4100 North Oak Park Avenue, Chicago, IL 60634,...</td>\n",
       "      <td>CULEX RESTUANS</td>\n",
       "      <td>41</td>\n",
       "      <td>N OAK PARK AVE</td>\n",
       "      <td>T002</td>\n",
       "      <td>4100  N OAK PARK AVE, Chicago, IL</td>\n",
       "      <td>41.95469</td>\n",
       "      <td>-87.800991</td>\n",
       "      <td>9</td>\n",
       "      <td>1</td>\n",
       "      <td>0</td>\n",
       "      <td>0</td>\n",
       "      <td>60634.0</td>\n",
       "      <td>60634.0</td>\n",
       "      <td>6.99</td>\n",
       "      <td>6.98</td>\n",
       "      <td>0.01</td>\n",
       "      <td>10,626.10</td>\n",
       "    </tr>\n",
       "  </tbody>\n",
       "</table>\n",
       "</div>"
      ],
      "text/plain": [
       "         Date                                            Address  \\\n",
       "0  2007-05-29  4100 North Oak Park Avenue, Chicago, IL 60634,...   \n",
       "1  2007-05-29  4100 North Oak Park Avenue, Chicago, IL 60634,...   \n",
       "\n",
       "                  Species  Block           Street  Trap  \\\n",
       "0  CULEX PIPIENS/RESTUANS     41   N OAK PARK AVE  T002   \n",
       "1          CULEX RESTUANS     41   N OAK PARK AVE  T002   \n",
       "\n",
       "              AddressNumberAndStreet  Latitude  Longitude  AddressAccuracy  \\\n",
       "0  4100  N OAK PARK AVE, Chicago, IL  41.95469 -87.800991                9   \n",
       "1  4100  N OAK PARK AVE, Chicago, IL  41.95469 -87.800991                9   \n",
       "\n",
       "   NumMosquitos  WnvPresent  station      zip  Zip Code  Areasqmile  \\\n",
       "0             1           0        0  60634.0   60634.0        6.99   \n",
       "1             1           0        0  60634.0   60634.0        6.99   \n",
       "\n",
       "   Landsqmile  Watersqmile Poppersqmile  \n",
       "0        6.98         0.01    10,626.10  \n",
       "1        6.98         0.01    10,626.10  "
      ]
     },
     "execution_count": 44,
     "metadata": {},
     "output_type": "execute_result"
    }
   ],
   "source": [
    "print df_train2.shape\n",
    "#df_train2.drop('Unnamed: 0', axis=1, inplace=True)\n",
    "df_train2.head(2)"
   ]
  },
  {
   "cell_type": "code",
   "execution_count": 42,
   "metadata": {
    "collapsed": true
   },
   "outputs": [],
   "source": [
    "df_train2.to_csv('assets/train_2.csv')"
   ]
  },
  {
   "cell_type": "markdown",
   "metadata": {},
   "source": [
    "# Do the same thing to the test data frame"
   ]
  },
  {
   "cell_type": "code",
   "execution_count": 45,
   "metadata": {
    "collapsed": true
   },
   "outputs": [],
   "source": [
    "#Function to find the distance from every trap to each zip code.\n",
    "df8 = pd.DataFrame(columns=[df1.columns])\n",
    "for i in df1.columns:\n",
    "    holder3 = []\n",
    "    for x, y in enumerate(df_test['Latitude']):\n",
    "        zip_code = (df1[i].loc[0], df1[i].loc[1])\n",
    "        trap = (y, df_test['Longitude'].loc[x])\n",
    "        holder3.append(haversine(zip_code, trap, miles=True))\n",
    "    df8[i] = holder"
   ]
  },
  {
   "cell_type": "code",
   "execution_count": 46,
   "metadata": {
    "collapsed": true
   },
   "outputs": [],
   "source": [
    "df9 = df8.copy()\n",
    "df11 = pd.DataFrame(columns=[df9.columns])\n",
    "#Function to order the zip code distance to each trap.\n",
    "for i in df9.columns:\n",
    "    holder4 = []\n",
    "    for x in df9.index:\n",
    "        y = df9.loc[x].idxmin()\n",
    "        holder4.append(y)\n",
    "        df9[y].loc[x] = np.nan\n",
    "    df11[i] = holder4"
   ]
  },
  {
   "cell_type": "code",
   "execution_count": 47,
   "metadata": {
    "collapsed": true
   },
   "outputs": [],
   "source": [
    "df_test['Zip Code'] = df11[df11.columns[:1]]"
   ]
  },
  {
   "cell_type": "code",
   "execution_count": 48,
   "metadata": {
    "collapsed": true
   },
   "outputs": [],
   "source": [
    "#Join zip code dataframe to df_train on the zip column\n",
    "df_test2 = pd.merge(df_test, df_zip[['Zip Code', 'Areasqmile', 'Landsqmile', 'Watersqmile', 'Poppersqmile']], how='left', on='Zip Code')"
   ]
  },
  {
   "cell_type": "code",
   "execution_count": null,
   "metadata": {
    "collapsed": true
   },
   "outputs": [],
   "source": []
  }
 ],
 "metadata": {
  "anaconda-cloud": {},
  "kernelspec": {
   "display_name": "Python 2",
   "language": "python",
   "name": "python2"
  },
  "language_info": {
   "codemirror_mode": {
    "name": "ipython",
    "version": 2
   },
   "file_extension": ".py",
   "mimetype": "text/x-python",
   "name": "python",
   "nbconvert_exporter": "python",
   "pygments_lexer": "ipython2",
   "version": "2.7.12"
  }
 },
 "nbformat": 4,
 "nbformat_minor": 1
}
